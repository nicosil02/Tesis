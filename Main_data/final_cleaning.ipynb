{
 "cells": [
  {
   "cell_type": "code",
   "execution_count": 26,
   "metadata": {
    "vscode": {
     "languageId": "r"
    }
   },
   "outputs": [],
   "source": [
    "library(rio)\n",
    "df_combined = import(\"semi_final_df.csv\")"
   ]
  },
  {
   "cell_type": "code",
   "execution_count": 27,
   "metadata": {
    "vscode": {
     "languageId": "r"
    }
   },
   "outputs": [
    {
     "data": {
      "text/html": [
       "<table class=\"dataframe\">\n",
       "<caption>A data.frame: 6 × 23</caption>\n",
       "<thead>\n",
       "\t<tr><th></th><th scope=col>Año</th><th scope=col>Pais</th><th scope=col>situ_eco</th><th scope=col>satisfaccion</th><th scope=col>confianza_ffa</th><th scope=col>confianza_polis</th><th scope=col>confianza_iglesia</th><th scope=col>confianza_congreso</th><th scope=col>confianza_gob</th><th scope=col>confianza_pj</th><th scope=col>⋯</th><th scope=col>democracia_mejor</th><th scope=col>autoritario_problemas</th><th scope=col>control_medios</th><th scope=col>interes</th><th scope=col>Educacion</th><th scope=col>izq_dummy_izquierda</th><th scope=col>izq_dummy_centro</th><th scope=col>izq_dummy_derecha</th><th scope=col>sexo_dummy_hombre</th><th scope=col>gob_militar_dummy</th></tr>\n",
       "\t<tr><th></th><th scope=col>&lt;int&gt;</th><th scope=col>&lt;chr&gt;</th><th scope=col>&lt;dbl&gt;</th><th scope=col>&lt;dbl&gt;</th><th scope=col>&lt;dbl&gt;</th><th scope=col>&lt;dbl&gt;</th><th scope=col>&lt;dbl&gt;</th><th scope=col>&lt;dbl&gt;</th><th scope=col>&lt;dbl&gt;</th><th scope=col>&lt;dbl&gt;</th><th scope=col>⋯</th><th scope=col>&lt;dbl&gt;</th><th scope=col>&lt;dbl&gt;</th><th scope=col>&lt;dbl&gt;</th><th scope=col>&lt;dbl&gt;</th><th scope=col>&lt;int&gt;</th><th scope=col>&lt;int&gt;</th><th scope=col>&lt;int&gt;</th><th scope=col>&lt;int&gt;</th><th scope=col>&lt;int&gt;</th><th scope=col>&lt;int&gt;</th></tr>\n",
       "</thead>\n",
       "<tbody>\n",
       "\t<tr><th scope=row>1</th><td>2020</td><td>Bolivia</td><td>3</td><td>2</td><td>1</td><td>1</td><td>4</td><td>2</td><td>1</td><td>1</td><td>⋯</td><td>3</td><td>3</td><td>3</td><td>1</td><td>2</td><td>0</td><td>0</td><td>1</td><td>1</td><td>0</td></tr>\n",
       "\t<tr><th scope=row>2</th><td>2020</td><td>Bolivia</td><td>3</td><td>1</td><td>3</td><td>2</td><td>4</td><td>2</td><td>2</td><td>3</td><td>⋯</td><td>3</td><td>3</td><td>2</td><td>2</td><td>5</td><td>0</td><td>1</td><td>0</td><td>1</td><td>1</td></tr>\n",
       "\t<tr><th scope=row>3</th><td>2020</td><td>Bolivia</td><td>3</td><td>2</td><td>2</td><td>3</td><td>4</td><td>2</td><td>1</td><td>2</td><td>⋯</td><td>3</td><td>3</td><td>2</td><td>3</td><td>2</td><td>0</td><td>0</td><td>1</td><td>0</td><td>1</td></tr>\n",
       "\t<tr><th scope=row>4</th><td>2020</td><td>Bolivia</td><td>2</td><td>1</td><td>3</td><td>2</td><td>4</td><td>3</td><td>2</td><td>2</td><td>⋯</td><td>2</td><td>3</td><td>1</td><td>2</td><td>5</td><td>0</td><td>0</td><td>1</td><td>1</td><td>0</td></tr>\n",
       "\t<tr><th scope=row>5</th><td>2020</td><td>Bolivia</td><td>3</td><td>2</td><td>4</td><td>3</td><td>4</td><td>2</td><td>1</td><td>1</td><td>⋯</td><td>3</td><td>3</td><td>2</td><td>2</td><td>7</td><td>0</td><td>1</td><td>0</td><td>1</td><td>1</td></tr>\n",
       "\t<tr><th scope=row>6</th><td>2020</td><td>Bolivia</td><td>2</td><td>2</td><td>2</td><td>2</td><td>3</td><td>3</td><td>2</td><td>2</td><td>⋯</td><td>3</td><td>3</td><td>2</td><td>1</td><td>5</td><td>0</td><td>0</td><td>1</td><td>1</td><td>1</td></tr>\n",
       "</tbody>\n",
       "</table>\n"
      ],
      "text/latex": [
       "A data.frame: 6 × 23\n",
       "\\begin{tabular}{r|lllllllllllllllllllll}\n",
       "  & Año & Pais & situ\\_eco & satisfaccion & confianza\\_ffa & confianza\\_polis & confianza\\_iglesia & confianza\\_congreso & confianza\\_gob & confianza\\_pj & ⋯ & democracia\\_mejor & autoritario\\_problemas & control\\_medios & interes & Educacion & izq\\_dummy\\_izquierda & izq\\_dummy\\_centro & izq\\_dummy\\_derecha & sexo\\_dummy\\_hombre & gob\\_militar\\_dummy\\\\\n",
       "  & <int> & <chr> & <dbl> & <dbl> & <dbl> & <dbl> & <dbl> & <dbl> & <dbl> & <dbl> & ⋯ & <dbl> & <dbl> & <dbl> & <dbl> & <int> & <int> & <int> & <int> & <int> & <int>\\\\\n",
       "\\hline\n",
       "\t1 & 2020 & Bolivia & 3 & 2 & 1 & 1 & 4 & 2 & 1 & 1 & ⋯ & 3 & 3 & 3 & 1 & 2 & 0 & 0 & 1 & 1 & 0\\\\\n",
       "\t2 & 2020 & Bolivia & 3 & 1 & 3 & 2 & 4 & 2 & 2 & 3 & ⋯ & 3 & 3 & 2 & 2 & 5 & 0 & 1 & 0 & 1 & 1\\\\\n",
       "\t3 & 2020 & Bolivia & 3 & 2 & 2 & 3 & 4 & 2 & 1 & 2 & ⋯ & 3 & 3 & 2 & 3 & 2 & 0 & 0 & 1 & 0 & 1\\\\\n",
       "\t4 & 2020 & Bolivia & 2 & 1 & 3 & 2 & 4 & 3 & 2 & 2 & ⋯ & 2 & 3 & 1 & 2 & 5 & 0 & 0 & 1 & 1 & 0\\\\\n",
       "\t5 & 2020 & Bolivia & 3 & 2 & 4 & 3 & 4 & 2 & 1 & 1 & ⋯ & 3 & 3 & 2 & 2 & 7 & 0 & 1 & 0 & 1 & 1\\\\\n",
       "\t6 & 2020 & Bolivia & 2 & 2 & 2 & 2 & 3 & 3 & 2 & 2 & ⋯ & 3 & 3 & 2 & 1 & 5 & 0 & 0 & 1 & 1 & 1\\\\\n",
       "\\end{tabular}\n"
      ],
      "text/markdown": [
       "\n",
       "A data.frame: 6 × 23\n",
       "\n",
       "| <!--/--> | Año &lt;int&gt; | Pais &lt;chr&gt; | situ_eco &lt;dbl&gt; | satisfaccion &lt;dbl&gt; | confianza_ffa &lt;dbl&gt; | confianza_polis &lt;dbl&gt; | confianza_iglesia &lt;dbl&gt; | confianza_congreso &lt;dbl&gt; | confianza_gob &lt;dbl&gt; | confianza_pj &lt;dbl&gt; | ⋯ ⋯ | democracia_mejor &lt;dbl&gt; | autoritario_problemas &lt;dbl&gt; | control_medios &lt;dbl&gt; | interes &lt;dbl&gt; | Educacion &lt;int&gt; | izq_dummy_izquierda &lt;int&gt; | izq_dummy_centro &lt;int&gt; | izq_dummy_derecha &lt;int&gt; | sexo_dummy_hombre &lt;int&gt; | gob_militar_dummy &lt;int&gt; |\n",
       "|---|---|---|---|---|---|---|---|---|---|---|---|---|---|---|---|---|---|---|---|---|---|\n",
       "| 1 | 2020 | Bolivia | 3 | 2 | 1 | 1 | 4 | 2 | 1 | 1 | ⋯ | 3 | 3 | 3 | 1 | 2 | 0 | 0 | 1 | 1 | 0 |\n",
       "| 2 | 2020 | Bolivia | 3 | 1 | 3 | 2 | 4 | 2 | 2 | 3 | ⋯ | 3 | 3 | 2 | 2 | 5 | 0 | 1 | 0 | 1 | 1 |\n",
       "| 3 | 2020 | Bolivia | 3 | 2 | 2 | 3 | 4 | 2 | 1 | 2 | ⋯ | 3 | 3 | 2 | 3 | 2 | 0 | 0 | 1 | 0 | 1 |\n",
       "| 4 | 2020 | Bolivia | 2 | 1 | 3 | 2 | 4 | 3 | 2 | 2 | ⋯ | 2 | 3 | 1 | 2 | 5 | 0 | 0 | 1 | 1 | 0 |\n",
       "| 5 | 2020 | Bolivia | 3 | 2 | 4 | 3 | 4 | 2 | 1 | 1 | ⋯ | 3 | 3 | 2 | 2 | 7 | 0 | 1 | 0 | 1 | 1 |\n",
       "| 6 | 2020 | Bolivia | 2 | 2 | 2 | 2 | 3 | 3 | 2 | 2 | ⋯ | 3 | 3 | 2 | 1 | 5 | 0 | 0 | 1 | 1 | 1 |\n",
       "\n"
      ],
      "text/plain": [
       "  Año  Pais    situ_eco satisfaccion confianza_ffa confianza_polis\n",
       "1 2020 Bolivia 3        2            1             1              \n",
       "2 2020 Bolivia 3        1            3             2              \n",
       "3 2020 Bolivia 3        2            2             3              \n",
       "4 2020 Bolivia 2        1            3             2              \n",
       "5 2020 Bolivia 3        2            4             3              \n",
       "6 2020 Bolivia 2        2            2             2              \n",
       "  confianza_iglesia confianza_congreso confianza_gob confianza_pj ⋯\n",
       "1 4                 2                  1             1            ⋯\n",
       "2 4                 2                  2             3            ⋯\n",
       "3 4                 2                  1             2            ⋯\n",
       "4 4                 3                  2             2            ⋯\n",
       "5 4                 2                  1             1            ⋯\n",
       "6 3                 3                  2             2            ⋯\n",
       "  democracia_mejor autoritario_problemas control_medios interes Educacion\n",
       "1 3                3                     3              1       2        \n",
       "2 3                3                     2              2       5        \n",
       "3 3                3                     2              3       2        \n",
       "4 2                3                     1              2       5        \n",
       "5 3                3                     2              2       7        \n",
       "6 3                3                     2              1       5        \n",
       "  izq_dummy_izquierda izq_dummy_centro izq_dummy_derecha sexo_dummy_hombre\n",
       "1 0                   0                1                 1                \n",
       "2 0                   1                0                 1                \n",
       "3 0                   0                1                 0                \n",
       "4 0                   0                1                 1                \n",
       "5 0                   1                0                 1                \n",
       "6 0                   0                1                 1                \n",
       "  gob_militar_dummy\n",
       "1 0                \n",
       "2 1                \n",
       "3 1                \n",
       "4 0                \n",
       "5 1                \n",
       "6 1                "
      ]
     },
     "metadata": {},
     "output_type": "display_data"
    }
   ],
   "source": [
    "# Supongamos que tu DataFrame se llama df_combined\n",
    "\n",
    "# Definir las columnas a eliminar\n",
    "columns_to_drop <- c(\"gob_militar\", \"izq_der\", \"SEXO\")  # Eliminar columna SEXO\n",
    "\n",
    "# Eliminar las columnas especificadas\n",
    "df_combined <- df_combined[, !(names(df_combined) %in% columns_to_drop)]\n",
    "\n",
    "# Eliminar filas con NA\n",
    "df_combined <- na.omit(df_combined)\n",
    "\n",
    "# Mostrar los primeros registros del DataFrame para verificar los cambios\n",
    "head(df_combined)\n"
   ]
  },
  {
   "cell_type": "code",
   "execution_count": 28,
   "metadata": {
    "vscode": {
     "languageId": "r"
    }
   },
   "outputs": [
    {
     "name": "stdout",
     "output_type": "stream",
     "text": [
      "'data.frame':\t8339 obs. of  23 variables:\n",
      " $ Año                   : int  2020 2020 2020 2020 2020 2020 2020 2020 2020 2020 ...\n",
      " $ Pais                  : chr  \"Bolivia\" \"Bolivia\" \"Bolivia\" \"Bolivia\" ...\n",
      " $ situ_eco              : num  3 3 3 2 3 2 3 3 5 3 ...\n",
      " $ satisfaccion          : num  2 1 2 1 2 2 2 1 2 4 ...\n",
      " $ confianza_ffa         : num  1 3 2 3 4 2 2 2 1 2 ...\n",
      " $ confianza_polis       : num  1 2 3 2 3 2 2 2 1 2 ...\n",
      " $ confianza_iglesia     : num  4 4 4 4 4 3 3 4 4 4 ...\n",
      " $ confianza_congreso    : num  2 2 2 3 2 3 2 2 2 2 ...\n",
      " $ confianza_gob         : num  1 2 1 2 1 2 2 2 3 2 ...\n",
      " $ confianza_pj          : num  1 3 2 2 1 2 1 2 1 2 ...\n",
      " $ confianza_partidos    : num  1 1 1 2 1 2 3 1 1 2 ...\n",
      " $ confianza_orga_elector: num  1 1 2 2 1 2 2 2 1 2 ...\n",
      " $ confianza_presi       : num  1 2 1 2 2 2 2 1 1 2 ...\n",
      " $ democracia_mejor      : num  3 3 3 2 3 3 1 3 1 1 ...\n",
      " $ autoritario_problemas : num  3 3 3 3 3 3 3 2 3 1 ...\n",
      " $ control_medios        : num  3 2 2 1 2 2 4 2 2 3 ...\n",
      " $ interes               : num  1 2 3 2 2 1 1 1 1 1 ...\n",
      " $ Educacion             : int  2 5 2 5 7 5 4 5 4 3 ...\n",
      " $ izq_dummy_izquierda   : int  0 0 0 0 0 0 1 0 1 0 ...\n",
      " $ izq_dummy_centro      : int  0 1 0 0 1 0 0 1 0 0 ...\n",
      " $ izq_dummy_derecha     : int  1 0 1 1 0 1 0 0 0 1 ...\n",
      " $ sexo_dummy_hombre     : int  1 1 0 1 1 1 0 0 0 1 ...\n",
      " $ gob_militar_dummy     : int  0 1 1 0 1 1 0 1 0 0 ...\n",
      " - attr(*, \"na.action\")= 'omit' Named int [1:1261] 9 10 11 15 17 24 29 30 35 37 ...\n",
      "  ..- attr(*, \"names\")= chr [1:1261] \"9\" \"10\" \"11\" \"15\" ...\n"
     ]
    }
   ],
   "source": [
    "str(df_combined)\n"
   ]
  },
  {
   "cell_type": "code",
   "execution_count": 30,
   "metadata": {
    "vscode": {
     "languageId": "r"
    }
   },
   "outputs": [],
   "source": [
    "df_combined$gob_militar_dummy <- as.factor(df_combined$gob_militar_dummy)\n",
    "df_combined$autoritario_problemas <- as.factor(df_combined$autoritario_problemas)\n",
    "df_combined$control_medios <- as.factor(df_combined$control_medios)"
   ]
  },
  {
   "cell_type": "code",
   "execution_count": 31,
   "metadata": {
    "vscode": {
     "languageId": "r"
    }
   },
   "outputs": [
    {
     "name": "stdout",
     "output_type": "stream",
     "text": [
      "Conditional item response (column) probabilities,\n",
      " by outcome variable, for each class (row) \n",
      " \n",
      "$autoritario_problemas\n",
      "               1      2      3      4\n",
      "class 1:  0.0049 0.4565 0.5319 0.0068\n",
      "class 2:  0.3836 0.4098 0.1606 0.0459\n",
      "class 3:  0.0610 0.1143 0.4611 0.3636\n",
      "\n",
      "$control_medios\n",
      "               1      2      3      4\n",
      "class 1:  0.0586 0.6340 0.2999 0.0075\n",
      "class 2:  0.5255 0.3074 0.0962 0.0709\n",
      "class 3:  0.1960 0.3499 0.3089 0.1451\n",
      "\n",
      "$gob_militar_dummy\n",
      "               0      1\n",
      "class 1:  0.6289 0.3711\n",
      "class 2:  0.7436 0.2564\n",
      "class 3:  0.4879 0.5121\n",
      "\n",
      "Estimated class population shares \n",
      " 0.5489 0.2101 0.241 \n",
      " \n",
      "Predicted class memberships (by modal posterior prob.) \n",
      " 0.6488 0.1989 0.1523 \n",
      " \n",
      "========================================================= \n",
      "Fit for 3 latent classes: \n",
      "========================================================= \n",
      "number of observations: 8339 \n",
      "number of estimated parameters: 23 \n",
      "residual degrees of freedom: 8 \n",
      "maximum log-likelihood: -24843.43 \n",
      " \n",
      "AIC(3): 49732.86\n",
      "BIC(3): 49894.52\n",
      "G^2(3): 82.71293 (Likelihood ratio/deviance statistic) \n",
      "X^2(3): 83.00981 (Chi-square goodness of fit) \n",
      " \n",
      "ALERT: iterations finished, MAXIMUM LIKELIHOOD NOT FOUND \n",
      " \n"
     ]
    }
   ],
   "source": [
    "library(poLCA)\n",
    "modelo <- poLCA(\n",
    "  cbind(autoritario_problemas, control_medios, gob_militar_dummy) ~ 1,  # Formula del modelo\n",
    "  data = df_combined,                                 # Datos\n",
    "  nclass = 3                                  # Número de clases latentes\n",
    ")"
   ]
  },
  {
   "cell_type": "code",
   "execution_count": 32,
   "metadata": {
    "vscode": {
     "languageId": "r"
    }
   },
   "outputs": [],
   "source": [
    "df_combined$class <- modelo$predclass\n"
   ]
  },
  {
   "cell_type": "code",
   "execution_count": 33,
   "metadata": {
    "vscode": {
     "languageId": "r"
    }
   },
   "outputs": [],
   "source": [
    "write.csv(df_combined, \"C:/Users/Nicolas Silva/Documents/GitHub/Tesis/Main_data/main_final.xlsx\", row.names=FALSE)\n"
   ]
  }
 ],
 "metadata": {
  "kernelspec": {
   "display_name": "R",
   "language": "R",
   "name": "ir"
  },
  "language_info": {
   "codemirror_mode": "r",
   "file_extension": ".r",
   "mimetype": "text/x-r-source",
   "name": "R",
   "pygments_lexer": "r",
   "version": "4.3.3"
  }
 },
 "nbformat": 4,
 "nbformat_minor": 2
}
