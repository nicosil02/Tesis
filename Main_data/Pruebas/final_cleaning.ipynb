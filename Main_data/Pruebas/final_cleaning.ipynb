{
 "cells": [
  {
   "cell_type": "code",
   "execution_count": 1,
   "metadata": {
    "vscode": {
     "languageId": "r"
    }
   },
   "outputs": [],
   "source": [
    "library(rio)\n",
    "df_combined = import(\"fino.xlsx\")"
   ]
  },
  {
   "cell_type": "code",
   "execution_count": 2,
   "metadata": {
    "vscode": {
     "languageId": "r"
    }
   },
   "outputs": [
    {
     "data": {
      "text/html": [
       "<table class=\"dataframe\">\n",
       "<caption>A data.frame: 6 × 23</caption>\n",
       "<thead>\n",
       "\t<tr><th></th><th scope=col>Año</th><th scope=col>Pais</th><th scope=col>satisfaccion</th><th scope=col>confianza_ffa</th><th scope=col>confianza_polis</th><th scope=col>confianza_congreso</th><th scope=col>confianza_gob</th><th scope=col>confianza_pj</th><th scope=col>confianza_partidos</th><th scope=col>confianza_orga_elector</th><th scope=col>⋯</th><th scope=col>control_medios</th><th scope=col>Educacion</th><th scope=col>izq_dummy</th><th scope=col>der_dummy</th><th scope=col>sexo_dummy_hombre</th><th scope=col>gob_militar_dummy</th><th scope=col>situ_eco_dummy</th><th scope=col>interes_dummy</th><th scope=col>corrupcion_dummy</th><th scope=col>criminalidad_dummy</th></tr>\n",
       "\t<tr><th></th><th scope=col>&lt;dbl&gt;</th><th scope=col>&lt;chr&gt;</th><th scope=col>&lt;dbl&gt;</th><th scope=col>&lt;dbl&gt;</th><th scope=col>&lt;dbl&gt;</th><th scope=col>&lt;dbl&gt;</th><th scope=col>&lt;dbl&gt;</th><th scope=col>&lt;dbl&gt;</th><th scope=col>&lt;dbl&gt;</th><th scope=col>&lt;dbl&gt;</th><th scope=col>⋯</th><th scope=col>&lt;dbl&gt;</th><th scope=col>&lt;dbl&gt;</th><th scope=col>&lt;dbl&gt;</th><th scope=col>&lt;dbl&gt;</th><th scope=col>&lt;dbl&gt;</th><th scope=col>&lt;dbl&gt;</th><th scope=col>&lt;dbl&gt;</th><th scope=col>&lt;dbl&gt;</th><th scope=col>&lt;dbl&gt;</th><th scope=col>&lt;dbl&gt;</th></tr>\n",
       "</thead>\n",
       "<tbody>\n",
       "\t<tr><th scope=row>1</th><td>2020</td><td>Bolivia</td><td>3</td><td>1</td><td>1</td><td>2</td><td>1</td><td>1</td><td>1</td><td>1</td><td>⋯</td><td>3</td><td>2</td><td>0</td><td>1</td><td>1</td><td>0</td><td>1</td><td>0</td><td>0</td><td>0</td></tr>\n",
       "\t<tr><th scope=row>2</th><td>2020</td><td>Bolivia</td><td>4</td><td>3</td><td>2</td><td>2</td><td>2</td><td>3</td><td>1</td><td>1</td><td>⋯</td><td>2</td><td>5</td><td>0</td><td>0</td><td>1</td><td>1</td><td>1</td><td>0</td><td>1</td><td>0</td></tr>\n",
       "\t<tr><th scope=row>3</th><td>2020</td><td>Bolivia</td><td>3</td><td>2</td><td>3</td><td>2</td><td>1</td><td>2</td><td>1</td><td>2</td><td>⋯</td><td>2</td><td>2</td><td>0</td><td>1</td><td>0</td><td>1</td><td>1</td><td>1</td><td>0</td><td>0</td></tr>\n",
       "\t<tr><th scope=row>4</th><td>2020</td><td>Bolivia</td><td>4</td><td>3</td><td>2</td><td>3</td><td>2</td><td>2</td><td>2</td><td>2</td><td>⋯</td><td>1</td><td>5</td><td>0</td><td>1</td><td>1</td><td>0</td><td>0</td><td>0</td><td>0</td><td>0</td></tr>\n",
       "\t<tr><th scope=row>5</th><td>2020</td><td>Bolivia</td><td>3</td><td>4</td><td>3</td><td>2</td><td>1</td><td>1</td><td>1</td><td>1</td><td>⋯</td><td>2</td><td>7</td><td>0</td><td>0</td><td>1</td><td>1</td><td>1</td><td>0</td><td>0</td><td>0</td></tr>\n",
       "\t<tr><th scope=row>6</th><td>2020</td><td>Bolivia</td><td>3</td><td>2</td><td>2</td><td>3</td><td>2</td><td>2</td><td>2</td><td>2</td><td>⋯</td><td>2</td><td>5</td><td>0</td><td>1</td><td>1</td><td>1</td><td>0</td><td>0</td><td>0</td><td>0</td></tr>\n",
       "</tbody>\n",
       "</table>\n"
      ],
      "text/latex": [
       "A data.frame: 6 × 23\n",
       "\\begin{tabular}{r|lllllllllllllllllllll}\n",
       "  & Año & Pais & satisfaccion & confianza\\_ffa & confianza\\_polis & confianza\\_congreso & confianza\\_gob & confianza\\_pj & confianza\\_partidos & confianza\\_orga\\_elector & ⋯ & control\\_medios & Educacion & izq\\_dummy & der\\_dummy & sexo\\_dummy\\_hombre & gob\\_militar\\_dummy & situ\\_eco\\_dummy & interes\\_dummy & corrupcion\\_dummy & criminalidad\\_dummy\\\\\n",
       "  & <dbl> & <chr> & <dbl> & <dbl> & <dbl> & <dbl> & <dbl> & <dbl> & <dbl> & <dbl> & ⋯ & <dbl> & <dbl> & <dbl> & <dbl> & <dbl> & <dbl> & <dbl> & <dbl> & <dbl> & <dbl>\\\\\n",
       "\\hline\n",
       "\t1 & 2020 & Bolivia & 3 & 1 & 1 & 2 & 1 & 1 & 1 & 1 & ⋯ & 3 & 2 & 0 & 1 & 1 & 0 & 1 & 0 & 0 & 0\\\\\n",
       "\t2 & 2020 & Bolivia & 4 & 3 & 2 & 2 & 2 & 3 & 1 & 1 & ⋯ & 2 & 5 & 0 & 0 & 1 & 1 & 1 & 0 & 1 & 0\\\\\n",
       "\t3 & 2020 & Bolivia & 3 & 2 & 3 & 2 & 1 & 2 & 1 & 2 & ⋯ & 2 & 2 & 0 & 1 & 0 & 1 & 1 & 1 & 0 & 0\\\\\n",
       "\t4 & 2020 & Bolivia & 4 & 3 & 2 & 3 & 2 & 2 & 2 & 2 & ⋯ & 1 & 5 & 0 & 1 & 1 & 0 & 0 & 0 & 0 & 0\\\\\n",
       "\t5 & 2020 & Bolivia & 3 & 4 & 3 & 2 & 1 & 1 & 1 & 1 & ⋯ & 2 & 7 & 0 & 0 & 1 & 1 & 1 & 0 & 0 & 0\\\\\n",
       "\t6 & 2020 & Bolivia & 3 & 2 & 2 & 3 & 2 & 2 & 2 & 2 & ⋯ & 2 & 5 & 0 & 1 & 1 & 1 & 0 & 0 & 0 & 0\\\\\n",
       "\\end{tabular}\n"
      ],
      "text/markdown": [
       "\n",
       "A data.frame: 6 × 23\n",
       "\n",
       "| <!--/--> | Año &lt;dbl&gt; | Pais &lt;chr&gt; | satisfaccion &lt;dbl&gt; | confianza_ffa &lt;dbl&gt; | confianza_polis &lt;dbl&gt; | confianza_congreso &lt;dbl&gt; | confianza_gob &lt;dbl&gt; | confianza_pj &lt;dbl&gt; | confianza_partidos &lt;dbl&gt; | confianza_orga_elector &lt;dbl&gt; | ⋯ ⋯ | control_medios &lt;dbl&gt; | Educacion &lt;dbl&gt; | izq_dummy &lt;dbl&gt; | der_dummy &lt;dbl&gt; | sexo_dummy_hombre &lt;dbl&gt; | gob_militar_dummy &lt;dbl&gt; | situ_eco_dummy &lt;dbl&gt; | interes_dummy &lt;dbl&gt; | corrupcion_dummy &lt;dbl&gt; | criminalidad_dummy &lt;dbl&gt; |\n",
       "|---|---|---|---|---|---|---|---|---|---|---|---|---|---|---|---|---|---|---|---|---|---|\n",
       "| 1 | 2020 | Bolivia | 3 | 1 | 1 | 2 | 1 | 1 | 1 | 1 | ⋯ | 3 | 2 | 0 | 1 | 1 | 0 | 1 | 0 | 0 | 0 |\n",
       "| 2 | 2020 | Bolivia | 4 | 3 | 2 | 2 | 2 | 3 | 1 | 1 | ⋯ | 2 | 5 | 0 | 0 | 1 | 1 | 1 | 0 | 1 | 0 |\n",
       "| 3 | 2020 | Bolivia | 3 | 2 | 3 | 2 | 1 | 2 | 1 | 2 | ⋯ | 2 | 2 | 0 | 1 | 0 | 1 | 1 | 1 | 0 | 0 |\n",
       "| 4 | 2020 | Bolivia | 4 | 3 | 2 | 3 | 2 | 2 | 2 | 2 | ⋯ | 1 | 5 | 0 | 1 | 1 | 0 | 0 | 0 | 0 | 0 |\n",
       "| 5 | 2020 | Bolivia | 3 | 4 | 3 | 2 | 1 | 1 | 1 | 1 | ⋯ | 2 | 7 | 0 | 0 | 1 | 1 | 1 | 0 | 0 | 0 |\n",
       "| 6 | 2020 | Bolivia | 3 | 2 | 2 | 3 | 2 | 2 | 2 | 2 | ⋯ | 2 | 5 | 0 | 1 | 1 | 1 | 0 | 0 | 0 | 0 |\n",
       "\n"
      ],
      "text/plain": [
       "  Año  Pais    satisfaccion confianza_ffa confianza_polis confianza_congreso\n",
       "1 2020 Bolivia 3            1             1               2                 \n",
       "2 2020 Bolivia 4            3             2               2                 \n",
       "3 2020 Bolivia 3            2             3               2                 \n",
       "4 2020 Bolivia 4            3             2               3                 \n",
       "5 2020 Bolivia 3            4             3               2                 \n",
       "6 2020 Bolivia 3            2             2               3                 \n",
       "  confianza_gob confianza_pj confianza_partidos confianza_orga_elector ⋯\n",
       "1 1             1            1                  1                      ⋯\n",
       "2 2             3            1                  1                      ⋯\n",
       "3 1             2            1                  2                      ⋯\n",
       "4 2             2            2                  2                      ⋯\n",
       "5 1             1            1                  1                      ⋯\n",
       "6 2             2            2                  2                      ⋯\n",
       "  control_medios Educacion izq_dummy der_dummy sexo_dummy_hombre\n",
       "1 3              2         0         1         1                \n",
       "2 2              5         0         0         1                \n",
       "3 2              2         0         1         0                \n",
       "4 1              5         0         1         1                \n",
       "5 2              7         0         0         1                \n",
       "6 2              5         0         1         1                \n",
       "  gob_militar_dummy situ_eco_dummy interes_dummy corrupcion_dummy\n",
       "1 0                 1              0             0               \n",
       "2 1                 1              0             1               \n",
       "3 1                 1              1             0               \n",
       "4 0                 0              0             0               \n",
       "5 1                 1              0             0               \n",
       "6 1                 0              0             0               \n",
       "  criminalidad_dummy\n",
       "1 0                 \n",
       "2 0                 \n",
       "3 0                 \n",
       "4 0                 \n",
       "5 0                 \n",
       "6 0                 "
      ]
     },
     "metadata": {},
     "output_type": "display_data"
    }
   ],
   "source": [
    "# Supongamos que tu DataFrame se llama df_combined\n",
    "\n",
    "# Definir las columnas a eliminar\n",
    "columns_to_drop <- c(\"gob_militar\", \"izq_der\", \"SEXO\")  # Eliminar columna SEXO\n",
    "\n",
    "# Eliminar las columnas especificadas\n",
    "df_combined <- df_combined[, !(names(df_combined) %in% columns_to_drop)]\n",
    "\n",
    "# Eliminar filas con NA\n",
    "df_combined <- na.omit(df_combined)\n",
    "\n",
    "# Mostrar los primeros registros del DataFrame para verificar los cambios\n",
    "head(df_combined)\n"
   ]
  },
  {
   "cell_type": "code",
   "execution_count": 3,
   "metadata": {
    "vscode": {
     "languageId": "r"
    }
   },
   "outputs": [
    {
     "name": "stdout",
     "output_type": "stream",
     "text": [
      "'data.frame':\t8423 obs. of  23 variables:\n",
      " $ Año                   : num  2020 2020 2020 2020 2020 2020 2020 2020 2020 2020 ...\n",
      " $ Pais                  : chr  \"Bolivia\" \"Bolivia\" \"Bolivia\" \"Bolivia\" ...\n",
      " $ satisfaccion          : num  3 4 3 4 3 3 3 4 3 1 ...\n",
      " $ confianza_ffa         : num  1 3 2 3 4 2 2 2 1 2 ...\n",
      " $ confianza_polis       : num  1 2 3 2 3 2 2 2 1 2 ...\n",
      " $ confianza_congreso    : num  2 2 2 3 2 3 2 2 2 2 ...\n",
      " $ confianza_gob         : num  1 2 1 2 1 2 2 2 3 2 ...\n",
      " $ confianza_pj          : num  1 3 2 2 1 2 1 2 1 2 ...\n",
      " $ confianza_partidos    : num  1 1 1 2 1 2 3 1 1 2 ...\n",
      " $ confianza_orga_elector: num  1 1 2 2 1 2 2 2 1 2 ...\n",
      " $ confianza_presi       : num  1 2 1 2 2 2 2 1 1 2 ...\n",
      " $ democracia_mejor      : num  2 2 2 3 2 2 4 2 4 4 ...\n",
      " $ autoritario_problemas : num  3 3 3 3 3 3 3 2 3 1 ...\n",
      " $ control_medios        : num  3 2 2 1 2 2 4 2 2 3 ...\n",
      " $ Educacion             : num  2 5 2 5 7 5 4 5 4 3 ...\n",
      " $ izq_dummy             : num  0 0 0 0 0 0 1 0 1 0 ...\n",
      " $ der_dummy             : num  1 0 1 1 0 1 0 0 0 1 ...\n",
      " $ sexo_dummy_hombre     : num  1 1 0 1 1 1 0 0 0 1 ...\n",
      " $ gob_militar_dummy     : num  0 1 1 0 1 1 0 1 0 0 ...\n",
      " $ situ_eco_dummy        : num  1 1 1 0 1 0 1 1 0 1 ...\n",
      " $ interes_dummy         : num  0 0 1 0 0 0 0 0 0 0 ...\n",
      " $ corrupcion_dummy      : num  0 1 0 0 0 0 0 0 0 0 ...\n",
      " $ criminalidad_dummy    : num  0 0 0 0 0 0 0 0 0 0 ...\n"
     ]
    }
   ],
   "source": [
    "str(df_combined)\n"
   ]
  },
  {
   "cell_type": "code",
   "execution_count": 4,
   "metadata": {
    "vscode": {
     "languageId": "r"
    }
   },
   "outputs": [],
   "source": [
    "df_combined$gob_militar_dummy <- as.factor(df_combined$gob_militar_dummy)\n",
    "df_combined$autoritario_problemas <- as.factor(df_combined$autoritario_problemas)\n",
    "df_combined$control_medios <- as.factor(df_combined$control_medios)"
   ]
  },
  {
   "cell_type": "code",
   "execution_count": 5,
   "metadata": {
    "vscode": {
     "languageId": "r"
    }
   },
   "outputs": [
    {
     "name": "stderr",
     "output_type": "stream",
     "text": [
      "Loading required package: scatterplot3d\n",
      "\n",
      "Loading required package: MASS\n",
      "\n"
     ]
    },
    {
     "name": "stdout",
     "output_type": "stream",
     "text": [
      "Conditional item response (column) probabilities,\n",
      " by outcome variable, for each class (row) \n",
      " \n",
      "$autoritario_problemas\n",
      "               1      2      3      4\n",
      "class 1:  0.0574 0.1399 0.4629 0.3398\n",
      "class 2:  0.0008 0.4618 0.5363 0.0010\n",
      "class 3:  0.3725 0.4157 0.1726 0.0393\n",
      "\n",
      "$control_medios\n",
      "               1      2      3      4\n",
      "class 1:  0.1949 0.3606 0.3039 0.1406\n",
      "class 2:  0.0465 0.6475 0.3048 0.0011\n",
      "class 3:  0.5134 0.3152 0.1012 0.0701\n",
      "\n",
      "$gob_militar_dummy\n",
      "               0      1\n",
      "class 1:  0.4961 0.5039\n",
      "class 2:  0.6296 0.3704\n",
      "class 3:  0.7417 0.2583\n",
      "\n",
      "Estimated class population shares \n",
      " 0.2686 0.5113 0.2201 \n",
      " \n",
      "Predicted class memberships (by modal posterior prob.) \n",
      " 0.1517 0.6498 0.1985 \n",
      " \n",
      "========================================================= \n",
      "Fit for 3 latent classes: \n",
      "========================================================= \n",
      "number of observations: 8423 \n",
      "number of estimated parameters: 23 \n",
      "residual degrees of freedom: 8 \n",
      "maximum log-likelihood: -25085.96 \n",
      " \n",
      "AIC(3): 50217.92\n",
      "BIC(3): 50379.81\n",
      "G^2(3): 80.80426 (Likelihood ratio/deviance statistic) \n",
      "X^2(3): 81.1616 (Chi-square goodness of fit) \n",
      " \n",
      "ALERT: iterations finished, MAXIMUM LIKELIHOOD NOT FOUND \n",
      " \n"
     ]
    }
   ],
   "source": [
    "library(poLCA)\n",
    "modelo <- poLCA(\n",
    "  cbind(autoritario_problemas, control_medios, gob_militar_dummy) ~ 1,  # Formula del modelo\n",
    "  data = df_combined,                                 # Datos\n",
    "  nclass = 3                                  # Número de clases latentes\n",
    ")"
   ]
  },
  {
   "cell_type": "code",
   "execution_count": 6,
   "metadata": {
    "vscode": {
     "languageId": "r"
    }
   },
   "outputs": [],
   "source": [
    "df_combined$class <- modelo$predclass\n"
   ]
  },
  {
   "cell_type": "code",
   "execution_count": 7,
   "metadata": {
    "vscode": {
     "languageId": "r"
    }
   },
   "outputs": [],
   "source": [
    "write.csv(df_combined, \"C:/Users/Nicolas Silva/Documents/GitHub/Tesis/Main_data/main_final.xlsx\", row.names=FALSE)\n"
   ]
  }
 ],
 "metadata": {
  "kernelspec": {
   "display_name": "R",
   "language": "R",
   "name": "ir"
  },
  "language_info": {
   "codemirror_mode": "r",
   "file_extension": ".r",
   "mimetype": "text/x-r-source",
   "name": "R",
   "pygments_lexer": "r",
   "version": "4.3.3"
  }
 },
 "nbformat": 4,
 "nbformat_minor": 2
}
